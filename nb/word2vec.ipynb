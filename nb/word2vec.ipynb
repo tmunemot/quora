{
 "cells": [
  {
   "cell_type": "code",
   "execution_count": 1,
   "metadata": {
    "collapsed": true
   },
   "outputs": [],
   "source": [
    "import gensim\n",
    "import nltk\n",
    "\n",
    "m = gensim.models.KeyedVectors.load_word2vec_format(\"../d/GoogleNews-vectors-negative300.bin\", binary=True)"
   ]
  },
  {
   "cell_type": "code",
   "execution_count": 16,
   "metadata": {},
   "outputs": [
    {
     "name": "stdout",
     "output_type": "stream",
     "text": [
      "True\n"
     ]
    }
   ],
   "source": [
    "print \"SAW\" in m"
   ]
  },
  {
   "cell_type": "code",
   "execution_count": 29,
   "metadata": {},
   "outputs": [
    {
     "name": "stdout",
     "output_type": "stream",
     "text": [
      "initialize\n",
      "get_model, 4\n",
      "get_model, 4\n",
      "get_model, 4\n",
      "get_model, 3\n",
      "get_model, 4\n",
      "get_model, 3\n",
      " get_model, 4\n",
      "get_model, 4\n",
      "[(3, 3, 777), (6, 3, 777), (0, 4, 777), (1, 4, 777), (2, 4, 777), (4, 4, 777), (5, 4, 777), (7, 4, 777)]\n",
      "Time4.12700986862\n"
     ]
    }
   ],
   "source": [
    "from multiprocessing import Process, Pool\n",
    "from multiprocessing.managers import BaseManager\n",
    "import time\n",
    "from random import randint\n",
    "\n",
    "class SharedResource(object):\n",
    "    def __init__(self):\n",
    "        print \"initialize\"\n",
    "        time.sleep(3)\n",
    "        self.value = 777\n",
    "        \n",
    "    def get_model(self):\n",
    "        sl = randint(3, 4)\n",
    "        print \"get_model, {0}\".format(sl)        \n",
    "        time.sleep(sl)\n",
    "        return self.value, sl\n",
    "\n",
    "class ResourceManager(BaseManager):\n",
    "    pass\n",
    "\n",
    "ResourceManager.register('SharedResource', SharedResource)\n",
    "\n",
    "def worker(pxy_obj, i):\n",
    "    m, sl = pxy_obj.get_model()\n",
    "    return i, sl, m\n",
    "\n",
    "def aggregate(ret):\n",
    "    aggregate.out.append(ret)\n",
    "aggregate.out = []\n",
    "\n",
    "    \n",
    "manager = ResourceManager()\n",
    "manager.start()\n",
    "shared = manager.SharedResource()\n",
    "pool = Pool(8)\n",
    "t = time.time()\n",
    "for i in range(8):\n",
    "    pool.apply_async(func=worker, args=(shared, i), callback=aggregate)\n",
    "pool.close()\n",
    "pool.join()\n",
    "print aggregate.out\n",
    "print \"Time{0}\".format(time.time() - t)"
   ]
  },
  {
   "cell_type": "code",
   "execution_count": null,
   "metadata": {
    "collapsed": true
   },
   "outputs": [],
   "source": []
  }
 ],
 "metadata": {
  "kernelspec": {
   "display_name": "Python 2",
   "language": "python",
   "name": "python2"
  },
  "language_info": {
   "codemirror_mode": {
    "name": "ipython",
    "version": 2
   },
   "file_extension": ".py",
   "mimetype": "text/x-python",
   "name": "python",
   "nbconvert_exporter": "python",
   "pygments_lexer": "ipython2",
   "version": "2.7.13"
  }
 },
 "nbformat": 4,
 "nbformat_minor": 2
}
